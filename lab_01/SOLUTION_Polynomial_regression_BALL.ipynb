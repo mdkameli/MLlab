{
 "cells": [
  {
   "cell_type": "markdown",
   "metadata": {},
   "source": [
    "# Polynomial Classification\n",
    "\n",
    "In this exercise you need to use polynomial regression to estimate the height reached by a ball thrown into air. The motion of the ball is controlled by the motion equation with uniform acceleration (in our case given by the gravity) that is a quadratic model. You need to estimate the initial height of the ball (h), the initial speed at which it was launched (v) and the gravity acceleration (g). The equation of the motion is : $y = h + vt + \\frac{1}{2} gt^2$ .\n",
    "In the height.csv file you can find the measured height values (subject to noise) while in time.csv file you can find the corresponding time instants."
   ]
  },
  {
   "cell_type": "code",
   "execution_count": 2,
   "metadata": {
    "collapsed": true
   },
   "outputs": [],
   "source": [
    "#import the required packages\n",
    "import matplotlib.pyplot as plt\n",
    "import csv\n",
    "from scipy import stats\n",
    "import numpy as np\n",
    "import sklearn as sl\n",
    "from sklearn import linear_model"
   ]
  },
  {
   "cell_type": "code",
   "execution_count": 4,
   "metadata": {},
   "outputs": [
    {
     "name": "stdout",
     "output_type": "stream",
     "text": [
      "(201, 1)\n",
      "(201, 1)\n"
     ]
    }
   ],
   "source": [
    "# load the data from the time.csv (features) and height.csv (measured values) files\n",
    "with open('data/time.csv', 'r') as f:\n",
    "    reader = csv.reader(f, delimiter=',')\n",
    "    # get all the rows as a list\n",
    "    x = list(reader)\n",
    "    # transform x into numpy array\n",
    "    x = np.array(x).astype(float)\n",
    "    \n",
    "with open('data/height.csv', 'r') as f2:\n",
    "    reader2 = csv.reader(f2, delimiter=',')\n",
    "    # get all the rows as a list\n",
    "    y = list(reader2)\n",
    "    # transform data into numpy array\n",
    "    y = np.array(y).astype(float)\n",
    "    \n",
    "print(x.shape)\n",
    "print(y.shape)"
   ]
  },
  {
   "cell_type": "code",
   "execution_count": 5,
   "metadata": {},
   "outputs": [
    {
     "name": "stdout",
     "output_type": "stream",
     "text": [
      "slope (linregress):  0.22423930932968628   intercept (lnregress): 4.215375108703984\n",
      "correlation coefficient: 0.08764757852933568\n"
     ]
    }
   ],
   "source": [
    "# try to perform a linear regression (it does not work properly, the model is quadratic !)\n",
    "\n",
    "slope, intercept, r_value, p_value, std_err = stats.linregress(x[:,0], y[:,0])\n",
    "\n",
    "print('slope (linregress): ', slope,'  intercept (lnregress):', intercept);\n",
    "print('correlation coefficient:', r_value)"
   ]
  },
  {
   "cell_type": "code",
   "execution_count": 7,
   "metadata": {},
   "outputs": [
    {
     "name": "stdout",
     "output_type": "stream",
     "text": [
      "initial position:  [0.96499498]   initial speed: [10.0243804]  gravity acceleration: [9.80014109]\n",
      "correlation coefficient: 0.9977953125219581\n"
     ]
    }
   ],
   "source": [
    "# use polynomial regression (the feature vectors have three components:\n",
    "# they contain all 1s (for bias), the input data $x$ and their squared values $x^2$\n",
    "\n",
    "dataX = np.zeros([201,3])  \n",
    "dataX[:,0] = np.ones([201])  # dataX[:,0]: bias \n",
    "dataX[:,1] = x[:,0]   # dataX[:,1]: 1st order terms\n",
    "dataX[:,2] =x[:,0]*x[:,0]   # dataX[:,2]: 2nd order terms\n",
    "\n",
    "reg = sl.linear_model.LinearRegression().fit(dataX, y)  #perform linear regression\n",
    "\n",
    "h = reg.intercept_\n",
    "v = reg.coef_[:,1]\n",
    "g = -reg.coef_[:,2]*2  # 0.5gt^2 -> g = -2*coeff\n",
    "sc = reg.score(dataX,y)\n",
    "\n",
    "\n",
    "print('initial position: ', h,'  initial speed:', v, ' gravity acceleration:', g )\n",
    "# reg.score contains the square of the correlation coefficient\n",
    "print('correlation coefficient:', np.sqrt(sc))"
   ]
  },
  {
   "cell_type": "markdown",
   "metadata": {},
   "source": [
    "# Question\n",
    "\n",
    "Explain what do you conclude looking at the linear and polynomial fitting."
   ]
  },
  {
   "cell_type": "code",
   "execution_count": 8,
   "metadata": {},
   "outputs": [
    {
     "data": {
      "image/png": "[encoded data removed]",
      "text/plain": [
       "<matplotlib.figure.Figure at 0x253d3c9e4e0>"
      ]
     },
     "metadata": {},
     "output_type": "display_data"
    }
   ],
   "source": [
    "# plot the input data and the estimated models\n",
    "plt.plot(x, y, 'oy', label='original data')\n",
    "plt.plot(x, intercept + slope*x, 'r', label='linear fitting')\n",
    "plt.plot(x, reg.intercept_ + reg.coef_[:,1]*x + reg.coef_[:,2]*x*x, 'g', label='polynomial fitting')\n",
    "plt.legend()\n",
    "plt.xlabel('Time [s]')\n",
    "plt.ylabel('Height [m]')\n",
    "plt.show()"
   ]
  },
  {
   "cell_type": "code",
   "execution_count": null,
   "metadata": {
    "collapsed": true
   },
   "outputs": [],
   "source": []
  }
 ],
 "metadata": {
  "kernelspec": {
   "display_name": "Python 3",
   "language": "python",
   "name": "python3"
  },
  "language_info": {
   "codemirror_mode": {
    "name": "ipython",
    "version": 3
   },
   "file_extension": ".py",
   "mimetype": "text/x-python",
   "name": "python",
   "nbconvert_exporter": "python",
   "pygments_lexer": "ipython3",
   "version": "3.6.2"
  }
 },
 "nbformat": 4,
 "nbformat_minor": 2
}
