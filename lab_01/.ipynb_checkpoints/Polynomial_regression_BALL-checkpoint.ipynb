{
 "cells": [
  {
   "cell_type": "markdown",
   "metadata": {},
   "source": [
    "# Polynomial Regression\n",
    "\n",
    "In this exercise you need to use polynomial regression to estimate the height reached by a ball thrown into air. The motion of the ball is controlled by the motion equation with uniform acceleration (in our case given by the gravity) that is a quadratic model. You need to estimate the initial height of the ball (h), the initial speed at which it was launched (v) and the gravity acceleration (g). The equation of the motion is : $y = h + vt + \\frac{1}{2} gt^2$ .\n",
    "In the height.csv file you can find the measured height values (subject to noise) while in time.csv file you can find the corresponding time instants."
   ]
  },
  {
   "cell_type": "code",
   "execution_count": null,
   "metadata": {},
   "outputs": [],
   "source": [
    "#import the required packages\n",
    "import matplotlib.pyplot as plt\n",
    "import csv\n",
    "from scipy import stats\n",
    "import numpy as np\n",
    "import sklearn as sl\n",
    "from sklearn import linear_model"
   ]
  },
  {
   "cell_type": "code",
   "execution_count": null,
   "metadata": {},
   "outputs": [],
   "source": [
    "# load the data from the time.csv (features) and height.csv (measured values) files\n",
    "with open('time.csv', 'r') as f:\n",
    "    reader = csv.reader(f, delimiter=',')\n",
    "    # get all the rows as a list\n",
    "    x = list(reader)\n",
    "    # transform x into numpy array\n",
    "    x = np.array(x).astype(float)\n",
    "    \n",
    "with open('height.csv', 'r') as f2:\n",
    "    reader2 = csv.reader(f2, delimiter=',')\n",
    "    # get all the rows as a list\n",
    "    y = list(reader2)\n",
    "    # transform data into numpy array\n",
    "    y = np.array(y).astype(float)"
   ]
  },
  {
   "cell_type": "code",
   "execution_count": null,
   "metadata": {},
   "outputs": [],
   "source": [
    "# try to perform a linear interpolation (it does not work properly, why ?)\n",
    "# you can use stats.linregress or linear_model.LinearRegression\n",
    "\n",
    "slope = 0 #need to compute!\n",
    "intercept = 0 #need to compute!\n",
    "r_value = 0 #need to compute!\n",
    "\n",
    "# Utilizing linear_model.LinearRegression\n",
    "\n",
    "LinReg = linear_model.LinearRegression()  # build the object LinearRegression\n",
    "LinReg.fit(x, y)  # estimate the LS coefficients\n",
    "prediction_training = LinReg.predict(x)  # predict output values on input set\n",
    "correlation_coefficient = np.sqrt(LinReg.score(x, y))\n",
    "print('\\n''slope (linear_model.LinearRegression): ',LinReg.coef_ ,'\\n''intercept (linear_model.LinearRegression):', LinReg.intercept_)\n",
    "print('correlation coefficient(linear_model.LinearRegression):', correlation_coefficient)\n",
    "\n",
    "# Utilizing Stats.linregress\n",
    "\n",
    "slope, intercept, r_value, p_value, std_err = stats.linregress(x[:,0], y[:,0])\n",
    "print('\\n\\nslope (stats.linregress): ', slope,'\\nintercept (stats.linregress):', intercept)\n",
    "print('correlation coefficient(stats.linregress):', r_value)"
   ]
  },
  {
   "cell_type": "code",
   "execution_count": null,
   "metadata": {},
   "outputs": [],
   "source": [
    "# plot the input data and the estimated models\n",
    "\n",
    "plt.plot(x, y, 'g.', label='original data')\n",
    "plt.plot(x, intercept + slope*x, 'r', label='fitted line')\n",
    "plt.legend()\n",
    "plt.grid()\n",
    "plt.title('Linear Prediction')\n",
    "plt.xlabel('Time')\n",
    "plt.ylabel('Height')\n",
    "plt.show()"
   ]
  },
  {
   "cell_type": "markdown",
   "metadata": {},
   "source": [
    "## Question:\n",
    "Try to perform a linear interpolation (it does not work properly, why ?)\n",
    "## Answer:\n",
    "Regarding the plotted data and motion equation, the Height depndents on Time in second degree, thus the linear prediction does not work for this arrangment of features (because degree of freedom for linear prediction is just 1 for this arrangement)"
   ]
  },
  {
   "cell_type": "code",
   "execution_count": null,
   "metadata": {},
   "outputs": [],
   "source": [
    "# use polynomial regression (the feature vectors have three components):\n",
    "# they contain all 1s (for bias), the input data $x$ and their squared values $x^2$\n",
    "# for the regression you can use linear_model.LinearRegression\n",
    "\n",
    "dataX = np.zeros([201,3])\n",
    "h = 0 #need to compute!\n",
    "v = 0 #need to compute!\n",
    "g = 0 #need to compute!\n",
    "sc = 0 #need to compute!\n",
    "\n",
    "# standardize the input matrix\n",
    "dataX[:,0] = 1\n",
    "dataX[:,1] = x[:,0]\n",
    "dataX[:,2] = x[:,0]**2\n",
    "\n",
    "# Utilizing linear_model.LinearRegression\n",
    "PolyReg = linear_model.LinearRegression()     # build the object LinearRegression\n",
    "PolyReg.fit(dataX[:,0:], y[:,0])              # estimate the LS coefficients\n",
    "\n",
    "h = PolyReg.intercept_\n",
    "v = PolyReg.coef_[1]\n",
    "g = 2 * PolyReg.coef_[2]\n",
    "sc = PolyReg.score(dataX,y)\n",
    "\n",
    "print('\\ninitial position: ', h,'\\ninitial speed:', v, '\\ngravity acceleration:', g )\n",
    "# reg.score produces the square of the correlation coefficient\n",
    "print('correlation coefficient:', np.sqrt(sc))"
   ]
  },
  {
   "cell_type": "markdown",
   "metadata": {},
   "source": [
    "# Question\n",
    "\n",
    "Explain what do you conclude looking at the linear and polynomial fitting.\n",
    "\n",
    "# Answer\n",
    "\n",
    "We can acquire the Polynomial regression as a special case of linear regression. With the main idea of how we select or rearrange our features. "
   ]
  },
  {
   "cell_type": "code",
   "execution_count": null,
   "metadata": {},
   "outputs": [],
   "source": [
    "# plot the input data and the estimated models\n",
    "\n",
    "plt.plot(dataX[:,1], y, 'b.',markersize = 5,label='Original Data')\n",
    "plt.plot(dataX[:,1], h + v*dataX[:,1] + (0.5*g*dataX[:,2]), 'r', label='Prediction')\n",
    "plt.legend()\n",
    "plt.grid()\n",
    "plt.title('Polynomial Fitting')\n",
    "plt.xlabel('Time (sec)')\n",
    "plt.ylabel('Height (m)')\n",
    "plt.show()"
   ]
  },
  {
   "cell_type": "code",
   "execution_count": null,
   "metadata": {},
   "outputs": [],
   "source": []
  }
 ],
 "metadata": {
  "kernelspec": {
   "display_name": "Python 3",
   "language": "python",
   "name": "python3"
  },
  "language_info": {
   "codemirror_mode": {
    "name": "ipython",
    "version": 3
   },
   "file_extension": ".py",
   "mimetype": "text/x-python",
   "name": "python",
   "nbconvert_exporter": "python",
   "pygments_lexer": "ipython3",
   "version": "3.7.0"
  }
 },
 "nbformat": 4,
 "nbformat_minor": 2
}
