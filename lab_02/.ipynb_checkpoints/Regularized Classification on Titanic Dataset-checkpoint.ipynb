{
 "cells": [
  {
   "cell_type": "markdown",
   "metadata": {},
   "source": [
    "# Regularized Classification on Titanic Dataset\n",
    "\n",
    "We are going to use a dataset from a Kaggle competition (https://www.kaggle.com/c/titanic/data)\n",
    " \n",
    "### Dataset description\n",
    "\n",
    ">The sinking of the RMS Titanic is one of the most infamous shipwrecks in history.  On April 15, 1912, during her maiden voyage, the Titanic sank after colliding with an iceberg, killing 1502 out of 2224 passengers and crew.  This tragedy shocked the international community and led to better safety regulations for ships.\n",
    "\n",
    ">One of the reasons that the shipwreck led to such loss of life was that there were not enough lifeboats for the passengers and crew.  Although there was some element of luck involved in surviving the sinking, some groups of people were more likely to survive than others, such as women, children, and the upper-class.\n",
    "\n",
    ">In this contest, we ask you to complete the analysis of what sorts of people were more likely to survive. \n",
    "\n",
    "From the competition [homepage](http://www.kaggle.com/c/titanic-gettingStarted).\n",
    "\n"
   ]
  },
  {
   "cell_type": "markdown",
   "metadata": {},
   "source": [
    "# TO DO: put your ID number (\"numero di matricola\")\n",
    "It will be used as seed for splitting the data into training and test. You can also try different seeds to see the impact of the random subdvision of the train and test sets and of the random components in the algorithm on the results."
   ]
  },
  {
   "cell_type": "code",
   "execution_count": null,
   "metadata": {},
   "outputs": [],
   "source": [
    "import numpy as np\n",
    "\n",
    "#put here your ``numero di matricola''\n",
    "IDnumber = 1165385   # substitute with your ID \n",
    "np.random.seed(IDnumber)"
   ]
  },
  {
   "cell_type": "code",
   "execution_count": null,
   "metadata": {},
   "outputs": [],
   "source": [
    "# let's load library for plotting\n",
    "%matplotlib inline  \n",
    "import matplotlib.pyplot as plt"
   ]
  },
  {
   "cell_type": "markdown",
   "metadata": {},
   "source": [
    "## Data Preprocessing\n",
    "\n",
    "Load the data from a .csv file. In this notebook we use the pandas (Python Data Analysis Library) package, since it provides useful functions to clean the data. In particular, it allows us to remove samples with missing data, as we do below. We also plot some descriptions of columns, check the pandas documentation for 'describe()' if you want to know more."
   ]
  },
  {
   "cell_type": "code",
   "execution_count": null,
   "metadata": {},
   "outputs": [],
   "source": [
    "# let's load pands and numpy\n",
    "import pandas as pd\n",
    "import numpy as np\n",
    "\n",
    "# this time we use pandas to load and clean the dataset\n",
    "\n",
    "# read the data from the csv file\n",
    "df = pd.read_csv(\"data/titanicData.csv\")\n",
    "\n",
    "# remove columns 'Ticket', 'Cabin', and 'Name' from the data since they are not relevant\n",
    "df = df.drop(['Ticket','Cabin','Name'], axis=1)\n",
    "# remove samples with missing values\n",
    "df = df.dropna() \n",
    "# let's see some statistics about the data \n",
    "df.describe()"
   ]
  },
  {
   "cell_type": "markdown",
   "metadata": {
    "collapsed": true
   },
   "source": [
    "Now we create data matrices: many of the features (columns of indices 0,1,3,4,6 in Xcat below) are categorical, so we need to encode them with ***indicator matrices***. That is, if a feature can take $\\ell$ different values $v_1,\\dots,v_{\\ell}$, we create $\\ell$ indicator (0-1) features $I_1,\\dots,I_{\\ell}$, such that $I_{j} = 1$ if and only if the value of the feature is $v_j$. This can be done in Python by first encode a feature with integers with LabelEncoder() and then obtain the indicator variables with OneHotEncoder()."
   ]
  },
  {
   "cell_type": "code",
   "execution_count": null,
   "metadata": {},
   "outputs": [],
   "source": [
    "#df.values contains the data, both the values of instances and the value of the label\n",
    "Data = df.values\n",
    "# the matrix including the categorical data is given by columns from the second one \n",
    "X_categorical = Data[:,2:]\n",
    "# the target value (class) is in the first column\n",
    "Y = Data[:,1]\n",
    "\n",
    "print(list(df))\n",
    "\n",
    "# get the number d of features of each sample\n",
    "d = X_categorical.shape[1]\n",
    "\n",
    "# get the number m of samples\n",
    "m = X_categorical.shape[0]\n",
    "\n",
    "#let's see what the number of samples is\n",
    "print(\"Number of samples: {}\".format(m))\n",
    "\n",
    "#now encode categorical variables using integers and one-hot-encoder\n",
    "\n",
    "from sklearn.preprocessing import LabelEncoder, OneHotEncoder\n",
    "label_encoder = LabelEncoder()\n",
    "onehot_encoder = OneHotEncoder()\n",
    "\n",
    "# encode the first column of the data matrix into indicator variables\n",
    "\n",
    "X_tmp = label_encoder.fit_transform(X_categorical[:,0])\n",
    "X_tmp = X_tmp.reshape(X_tmp.shape[0],1)\n",
    "X = onehot_encoder.fit_transform(X_tmp[:,0].reshape(-1,1)).toarray()\n",
    "\n",
    "# repeat for the other categorical input variables, which have indices 1, 3, 4, and 6 in the X_categorical\n",
    "\n",
    "index_categorical = [1,3,4,6]\n",
    "\n",
    "for i in range(1,7):\n",
    "    if i in index_categorical:\n",
    "        X_tmp = label_encoder.fit_transform(X_categorical[:,i])\n",
    "        X_tmp = X_tmp.reshape(X_tmp.shape[0],1)\n",
    "        X_tmp = onehot_encoder.fit_transform(X_tmp[:,0].reshape(-1,1)).toarray()\n",
    "        X = np.hstack((X,X_tmp))\n",
    "    else:\n",
    "        X_tmp = X_categorical[:,i]\n",
    "        X_tmp = X_tmp.reshape(X_tmp.shape[0],1)\n",
    "        X = np.hstack((X,X_tmp))"
   ]
  },
  {
   "cell_type": "markdown",
   "metadata": {},
   "source": [
    "## Data Preprocessing\n",
    "\n",
    "The class labels are already 0-1, so we can use them directly."
   ]
  },
  {
   "cell_type": "code",
   "execution_count": null,
   "metadata": {},
   "outputs": [],
   "source": [
    "# properly encode the target labels\n",
    "Y = label_encoder.fit_transform(Y)\n",
    "K = max(Y) + 1 # number of classes\n",
    "\n",
    "print(\"Number of classes: \"+str(K))"
   ]
  },
  {
   "cell_type": "markdown",
   "metadata": {},
   "source": [
    "Given $m$ total data points, keep $m\\_training = 70$ data points as data for ***training and validation*** and $m\\_test = m - m\\_training$ as test data. Splitting is random, using as seed your ID number. Make sure that the training set contains at least 10 instances from each class.If it does not, modify the code so to apply a random\n",
    "permutation (or the same permutation multiple times) to the samples until this happens."
   ]
  },
  {
   "cell_type": "code",
   "execution_count": null,
   "metadata": {},
   "outputs": [],
   "source": [
    "# Split data into training and validation data\n",
    "\n",
    "# load a package which is useful for the training-test splitting\n",
    "# from sklearn.cross_validation import train_test_split\n",
    "from sklearn.model_selection import train_test_split\n",
    "\n",
    "# number of samples\n",
    "m = np.shape(X)[0]\n",
    "\n",
    "#Divide in training and test: make sure that your training set\n",
    "#contains at least 10 elements from class 1 and at least 10 elements\n",
    "#from class -1! If it does not, modify the code so to apply more random\n",
    "#permutations (or the same permutation multiple times) until this happens.\n",
    "\n",
    "permutation = np.random.permutation(m)\n",
    "X = X[permutation]\n",
    "Y = Y[permutation]\n",
    "\n",
    "m_training = 70  # use 70 samples for training + validation...\n",
    "m_test = m-m_training # and the rest for testing\n",
    "\n",
    "# test_size is the proportion of samples in the test set\n",
    "X_training, X_test, Y_training, Y_test = train_test_split(X, Y, test_size =float(m_test)/float(m), random_state = IDnumber)\n",
    "\n",
    "print(Y_training)\n",
    "\n",
    "m_training = X_training.shape[0]\n",
    "m_test = X_test.shape[0]\n",
    "\n",
    "#let's see what the fraction of ones in the entire dataset is\n",
    "print(float(sum(Y_training)+sum(Y_test))/float(m_training+m_test))"
   ]
  },
  {
   "cell_type": "markdown",
   "metadata": {},
   "source": [
    "Standardize the data to have zero-mean and unit variance (columnwise):"
   ]
  },
  {
   "cell_type": "code",
   "execution_count": null,
   "metadata": {},
   "outputs": [],
   "source": [
    "# Standardize the Features Matrix\n",
    "from sklearn import preprocessing\n",
    "X = X.astype(np.float64) #standard scaler works with double precision data\n",
    "X_training = X_training.astype(np.float64)\n",
    "X_test = X_test.astype(np.float64)\n",
    "\n",
    "#let's use the standard scaling; we define the scaling for the entire dataset\n",
    "scaler = preprocessing.StandardScaler().fit(X)\n",
    "\n",
    "#let's apply the scaling to the training set\n",
    "X_training = scaler.transform(X_training)\n",
    "\n",
    "#let's apply the scaling to the test set\n",
    "X_test = scaler.transform(X_test)\n",
    "\n"
   ]
  },
  {
   "cell_type": "markdown",
   "metadata": {},
   "source": [
    "### Perform Logistic Regression\n",
    "\n",
    "We now perform logistic regression using the function provided by Scikit-learn.\n",
    "\n",
    "Note: as provided by Scikit-learn, logistic regression is always implemented using regularization. However, the impact of regularization can be dampened to have almost no regularization by changing the parameter $C$, which is the inverse of $\\lambda$. Therefore to have no regularization, which is $\\lambda = 0$ for the model seen in class, we need $C$ to have a large value. Here we fix $C = 100000000$.\n",
    "\n",
    "[Note that the intercept is estimated in the model.]\n",
    "\n",
    "For all our models we are going to use 10-fold cross validation to estimate the parameters (when needed) and/or estimate the validation error."
   ]
  },
  {
   "cell_type": "code",
   "execution_count": null,
   "metadata": {},
   "outputs": [],
   "source": [
    "from sklearn import linear_model\n",
    "\n",
    "# define a logistic regression model with very high C parameter -> low impact from regularization;\n",
    "# there are many solvers available to obtain the solution to the logistic regression problem, we just pick\n",
    "# one of them; 'cv' is the number of folds in cross-validation; we also specify l2 as regularization penalty,\n",
    "# just to pick one; Cs contains the values of C to be tested and to pick from with validation. Here we\n",
    "# are interested in only 1 value of C, and use cross-validation just to estimate the validation error\n",
    "# in a same way as other models\n",
    "\n",
    "reg = linear_model.LogisticRegressionCV(Cs=[100000000], solver='newton-cg',cv=10, penalty='l2')\n",
    "\n",
    "#fit the model on training data\n",
    "reg.fit(X_training, Y_training)\n",
    "\n",
    "# the attribute 'Cs_' contains ALL the values of C evaluated in cross-validation;\n",
    "# let's print them\n",
    "print(\"Values of parameter C tried in 10-fold Cross-Validation: {}\".format( reg.Cs_ ))\n",
    "\n",
    "# the attribute 'scores_' contains the accuracy obtained in each fold, for each value \n",
    "# of C tried; we now compute the average accuracy across the 10 folds\n",
    "\n",
    "CV_accuracies = np.divide(np.sum(reg.scores_[1],axis=0),10)\n",
    "\n",
    "# let's print the average accuracies obtained for the various values of C\n",
    "\n",
    "print(\"Accuracies obtained for the different values of C with 10-fold Cross-Validation: {}\".format( CV_accuracies ))\n",
    "\n",
    "# the attribute 'C_' contains the best value of C as identified by cross-validation;\n",
    "# let's print it\n",
    "\n",
    "print(\"Best value of parameter C according to 10-fold Cross-Validation: {}\".format( reg.C_[0] ))\n",
    "\n",
    "# let's store the best CV accuracy, and then print it\n",
    "reg_best_CV_accuracy = max(CV_accuracies)\n",
    "print(\"10-fold Cross-Validation accuracies obtained with the best value of parameter C: {}\".format( reg_best_CV_accuracy ))"
   ]
  },
  {
   "cell_type": "markdown",
   "metadata": {},
   "source": [
    "Note that the logistic regression function in Scikit-learn has many optional parameters. Read the documentation if you want to understand what they do!"
   ]
  },
  {
   "cell_type": "markdown",
   "metadata": {},
   "source": [
    "## TODO 1\n",
    "### Learn the best model from Logistic Regression on the entire training set and examine coefficients (by printing and plotting them)\n",
    "\n",
    "Note that you can use simply $linear\\_model.LogisticRegression()$, that does not use cross-validation, without passing the best value of $C$ (and then fit())."
   ]
  },
  {
   "cell_type": "code",
   "execution_count": null,
   "metadata": {},
   "outputs": [],
   "source": [
    "# let's define the Logistic Regression model\n",
    "reg_full = linear_model.LogisticRegression(C = 100000000,solver='newton-cg')\n",
    "\n",
    "# get the best model using the entire training dataset\n",
    "best_model = reg_full.fit(X_training,Y_training)\n",
    "\n",
    "# print the coefficients from the logistic regression model.\n",
    "print(\"Coefficients obtained using the entire training set:\\n {}\".format( reg_full.coef_ ))\n",
    "\n",
    "# note that the intercept is not in coef_, it is in intercept_\n",
    "\n",
    "print(\"\\nIntercept: {}\".format( reg_full.intercept_ ))\n",
    "\n",
    "# Plot the coefficients\n",
    "reg_coef = reg_full.coef_.reshape(reg_full.coef_.shape[1],)\n",
    "plt.figure()\n",
    "ind = np.arange(1,len(reg_coef)+1)  # the x locations for the groups\n",
    "width = 0.45       # the width of the bars\n",
    "plt.bar(ind, reg_coef, width, color='r')\n",
    "plt.xlabel('Coefficient Index')\n",
    "plt.ylabel('Coefficient Value')\n",
    "plt.title('Logistic Regression Coefficients')\n",
    "plt.show()"
   ]
  },
  {
   "cell_type": "markdown",
   "metadata": {},
   "source": [
    "## TODO 2\n",
    "\n",
    "### Questions: How many coefficients do you get? Why? How many of them are \"close\" to 0? (max 5 lines)"
   ]
  },
  {
   "cell_type": "code",
   "execution_count": null,
   "metadata": {},
   "outputs": [],
   "source": [
    "print('Number of Coefficients = ', reg_full.coef_.shape[1])\n",
    "print('Number of digits which represent the features = ', X.shape[1])"
   ]
  },
  {
   "cell_type": "markdown",
   "metadata": {},
   "source": [
    "##The coefficient outputs of \"linear_model.LogisticRegression\" are the Coefficient of the features in the decision function; Due to encoding procedure of input features, number of element which represent all features are 23 as the number of coefficients. Simply, if we sum the \"X_tmp\" factor for each parameter the final result would be 23.\n",
    "##If we do not use the C parameter and use all the training set, about 8 coefficient are near to zero."
   ]
  },
  {
   "cell_type": "markdown",
   "metadata": {},
   "source": [
    "## TODO 3\n",
    "### Predict labels on training and test\n",
    "\n",
    "- Compute the predicted labels on training and test data using reg.predict\n",
    " - Evaluate the accuracy using metrics.accuracy_score from scikit-learn (it returns the percentage of data correctly classified).\n",
    " - Evaluate the score used by logistic regression on training and test data using metrics.accuracy_score()"
   ]
  },
  {
   "cell_type": "code",
   "execution_count": null,
   "metadata": {},
   "outputs": [],
   "source": [
    "from sklearn.metrics import accuracy_score\n",
    "\n",
    "# prediction on training data\n",
    "Y_training_prediction_LR = reg_full.predict(X_training)\n",
    "\n",
    "# compute accuracy as suggested above using metrics.accuracy_score from scikit-learn for training dataset\n",
    "Training_Accuracy = accuracy_score(Y_training,Y_training_prediction_LR)\n",
    "print('Training Set Prediction Accuracy = ',Training_Accuracy)\n",
    "\n",
    "# prediction on test data\n",
    "Y_test_prediction_LR = reg_full.predict(X_test)\n",
    "\n",
    "# compute accuracy as suggested above using metrics.accuracy_score from scikit-learn for test dataset\n",
    "Test_Accuracy = accuracy_score(Y_test,Y_test_prediction_LR)\n",
    "print('Test Set Prediction Accuracy     = ',Test_Accuracy)"
   ]
  },
  {
   "cell_type": "markdown",
   "metadata": {},
   "source": [
    "## TODO 4\n",
    "### Use L2 regularized logistic regression with cross-validation\n",
    "\n",
    "We perform the L2 regularization for different values of the regularization parameter $C$, and use the Scikit-learn function to perform cross-validation (CV).\n",
    "\n",
    "In L2 regularized logistic regression, the following L2 regularization term is added to the loss:\n",
    "\n",
    "$$\n",
    "    \\lambda \\sum_{i=1}^d w_i^2\n",
    "$$\n",
    "\n",
    "The parameter $C$ used by Scikit learn corresponds to the inverse of $\\lambda$, that is $C = \\frac{1}{\\lambda}$.\n",
    "\n",
    "Note: the CV in Scikit-learn is by default a *stratified* CV, that means that data is split into train-validation while maintaining the proportion of different classes in each fold.\n",
    "\n",
    "In the code below:\n",
    "- use LogisticRegressionCV() to select the best value of C with a 10-fold CV with L2 penalty;\n",
    "- use LogisticRegression() to learn the best model for the best C with L2 penalty on the entire training set\n",
    "\n",
    "Note that LogisticRegressionCV() picks some default values of C to try, but you may need to pass some other values in case for your dataset you need to explore a different interval of values. This applies every time that you use LogisticRegressionCV()."
   ]
  },
  {
   "cell_type": "code",
   "execution_count": null,
   "metadata": {},
   "outputs": [],
   "source": [
    "#define the model using LogisticRegressionCV passing an appropriate solver, cv value, and choice of penalty\n",
    "regL2 = linear_model.LogisticRegressionCV(Cs=[100000000,100,10,5,1], solver='newton-cg',cv=10, penalty='l2')\n",
    "\n",
    "#fit the model on training data\n",
    "\n",
    "regL2.fit(X_training, Y_training)\n",
    "\n",
    "# the attribute 'Cs_' contains ALL the values of C evaluated in cross-validation;\n",
    "# let's print them\n",
    "print(\"Values of parameter C tried in 10-fold Cross-Validation: {}\".format( regL2.Cs_ ))\n",
    "\n",
    "# the attribute 'scores_' contains the accuracy obtained in each fold, for each value \n",
    "# of C tried; we now compute the average accuracy across the 10 folds\n",
    "\n",
    "CV_accuracies = np.divide(np.sum(regL2.scores_[1],axis=0),10)\n",
    "\n",
    "# let's print the average accuracies obtained for the various values of C\n",
    "\n",
    "print(\"Accuracies obtained for the different values of C with 10-fold Cross-Validation: {}\".format( CV_accuracies ))\n",
    "\n",
    "# the attribute 'C_' contains the best value of C as identified by cross-validation;\n",
    "# let's print it\n",
    "\n",
    "print(\"Best value of parameter C according to 10-fold Cross-Validation: {}\".format( reg.C_[0] ))\n",
    "\n",
    "# let's store the best CV accuracy, and then print it\n",
    "regL2_best_CV_accuracy = max(CV_accuracies)\n",
    "print(\"10-fold Cross-Validation accuracies obtained with the best value of parameter C: {}\".format( regL2_best_CV_accuracy ))\n",
    "\n",
    "#define the model using the best C and an appropriate solver\n",
    "\n",
    "regL2_full = linear_model.LogisticRegression(C = regL2_best_CV_accuracy ,solver='newton-cg')\n",
    "\n",
    "\n",
    "#fit the model using the best C on the entire training set\n",
    "\n",
    "best_model_L2 = regL2_full.fit(X_training,Y_training)"
   ]
  },
  {
   "cell_type": "markdown",
   "metadata": {},
   "source": [
    "### TODO 5: Print and plot the coefficients from logistic regression with and without regularization."
   ]
  },
  {
   "cell_type": "code",
   "execution_count": null,
   "metadata": {},
   "outputs": [],
   "source": [
    "#print the coefficients from logistic regression\n",
    "print(\"Logistic Regression Coefficients :\\n {}\".format( reg_full.coef_ ))\n",
    "\n",
    "#print the coefficients from L2 regularized logistic regression\n",
    "print(\"\\nL2 Regularized Logistic Regression Coefficients :\\n {}\".format( regL2_full.coef_ ))\n",
    "\n",
    "# note that the intercept is not in coef_, it is in intercept_\n",
    "print(\"\\nIntercept: {}\".format( regL2_full.intercept_ ))\n",
    "\n",
    "# Plot the coefficients\n",
    "regL2_full_coef = regL2_full.coef_.reshape(regL2_full.coef_.shape[1],)\n",
    "ind = np.arange(1,len(reg_coef)+1)  # the x locations for the groups\n",
    "width = 0.35       # the width of the bars\n",
    "fig, ax = plt.subplots()\n",
    "\n",
    "rects1 = ax.bar(ind, reg_coef, width, color='r')\n",
    "rects2 = ax.bar(ind + width, regL2_full_coef, width, color='y')\n",
    "ax.legend((rects1[0], rects2[0]), ('Log Regr', 'Log Regr + L2 Regul'))\n",
    "plt.xlabel('Coefficient Idx')\n",
    "plt.ylabel('Coefficient Value')\n",
    "plt.title('Logistic Regression Coefficients: Standard and Regularized Version')\n",
    "plt.show()"
   ]
  },
  {
   "cell_type": "markdown",
   "metadata": {},
   "source": [
    "### TODO 6: how do the coefficients from L2 regularization compare to the ones from logistic regression? (max 5 lines)"
   ]
  },
  {
   "cell_type": "markdown",
   "metadata": {},
   "source": [
    "## Answer (6):\n",
    "In comparison with the logistic regresion, the coefficient which were near to zere got smaller and they compensate with less average."
   ]
  },
  {
   "cell_type": "markdown",
   "metadata": {},
   "source": [
    "### TODO 7: obtain classification accuracy on training and test data for the L2 regularized model"
   ]
  },
  {
   "cell_type": "code",
   "execution_count": null,
   "metadata": {},
   "outputs": [],
   "source": [
    "#now get training and test error and print training and test accuracy\n",
    "\n",
    "# predictions on training data \n",
    "Y_training_prediction_LR_L2 =  regL2_full.predict(X_training)\n",
    "\n",
    "# predictions on test data \n",
    "Y_test_prediction_LR_L2 =  regL2_full.predict(X_test)\n",
    "\n",
    "# compute accuracy as suggested above using metrics.accuracy_score from scikit-learn on training data\n",
    "Training_Accuracy_L2 = accuracy_score(Y_training,Y_training_prediction_LR_L2)\n",
    "print('Training Set Prediction Accuracy with L2 Regularized = ',Training_Accuracy_L2)\n",
    "\n",
    "# compute accuracy as suggested above using metrics.accuracy_score from scikit-learn on test data\n",
    "Test_Accuracy_L2 = accuracy_score(Y_test,Y_test_prediction_LR_L2)\n",
    "print('Test Set Prediction Accuracy with L2 Regularized     = ',Test_Accuracy_L2)"
   ]
  },
  {
   "cell_type": "markdown",
   "metadata": {},
   "source": [
    "### TODO 8: how does accuracy compare to logistic regression? Comment (max 5 lines)"
   ]
  },
  {
   "cell_type": "code",
   "execution_count": null,
   "metadata": {},
   "outputs": [],
   "source": [
    "print('Training Accuracy without L2 Regularized = ',Training_Accuracy)\n",
    "print('Training Accuracy with L2 Regularized    = ',Training_Accuracy_L2)\n",
    "print('\\nTest Set Accuracy without L2 Regularized = ',Test_Accuracy)\n",
    "print('Test Set Accuracy with L2 Regularized    = ',Test_Accuracy_L2)"
   ]
  },
  {
   "cell_type": "markdown",
   "metadata": {},
   "source": [
    "## Answer (8):\n",
    "Regarding the summery of the results as above, the accuracy increased by implementing the L2 Regulizer due to the compensation of the best parameter of $\\lambda$ (or C) and computing the Loss error."
   ]
  },
  {
   "cell_type": "markdown",
   "metadata": {
    "collapsed": true
   },
   "source": [
    "### TODO 9: use larger datasets for training set\n",
    "\n",
    "Perform the same estimation procedures using different more points on the training data, that is fix $m_{training} = 500$. You can simply copy and paste all the code above into the cell below."
   ]
  },
  {
   "cell_type": "code",
   "execution_count": null,
   "metadata": {},
   "outputs": [],
   "source": [
    "#######\n",
    "m_training = 500      # use 500 samples for training + validation...\n",
    "m_test = m-m_training # and the rest for testing\n",
    "\n",
    "# test_size is the proportion of samples in the test set\n",
    "X_training, X_test, Y_training, Y_test = train_test_split(X, Y, test_size =float(m_test)/float(m), random_state = IDnumber)\n",
    "\n",
    "m_training = X_training.shape[0]\n",
    "m_test = X_test.shape[0]\n",
    "\n",
    "#######\n",
    "X = X.astype(np.float64) #standard scaler works with double precision data\n",
    "X_training = X_training.astype(np.float64)\n",
    "X_test = X_test.astype(np.float64)\n",
    "\n",
    "#let's use the standard scaling; we define the scaling for the entire dataset\n",
    "scaler = preprocessing.StandardScaler().fit(X)\n",
    "\n",
    "#let's apply the scaling to the training set\n",
    "X_training = scaler.transform(X_training)\n",
    "\n",
    "#let's apply the scaling to the test set\n",
    "X_test = scaler.transform(X_test)\n",
    "\n",
    "#######\n",
    "# let's define the Logistic Regression model\n",
    "reg_full = linear_model.LogisticRegression(C = 100000000,solver='newton-cg')\n",
    "\n",
    "# get the best model using the entire training dataset\n",
    "best_model = reg_full.fit(X_training,Y_training)\n",
    "\n",
    "#######\n",
    "# prediction on training data\n",
    "Y_training_prediction_LR = reg_full.predict(X_training)\n",
    "\n",
    "# compute accuracy as suggested above using metrics.accuracy_score from scikit-learn for training dataset\n",
    "Training_Accuracy = accuracy_score(Y_training,Y_training_prediction_LR)\n",
    "\n",
    "# prediction on test data\n",
    "Y_test_prediction_LR = reg_full.predict(X_test)\n",
    "\n",
    "# compute accuracy as suggested above using metrics.accuracy_score from scikit-learn for test dataset\n",
    "Test_Accuracy = accuracy_score(Y_test,Y_test_prediction_LR)\n",
    "\n",
    "#######\n",
    "#define the model using LogisticRegressionCV passing an appropriate solver, cv value, and choice of penalty\n",
    "regL2 = linear_model.LogisticRegressionCV(Cs=[100000000,100,10,5,1], solver='newton-cg',cv=10, penalty='l2')\n",
    "\n",
    "#fit the model on training data\n",
    "\n",
    "regL2.fit(X_training, Y_training)\n",
    "\n",
    "# the attribute 'Cs_' contains ALL the values of C evaluated in cross-validation;\n",
    "# let's print them\n",
    "print(\"\\nValues of parameter C tried in 10-fold Cross-Validation:\\n {}\".format( regL2.Cs_ ))\n",
    "\n",
    "# the attribute 'scores_' contains the accuracy obtained in each fold, for each value \n",
    "# of C tried; we now compute the average accuracy across the 10 folds\n",
    "\n",
    "CV_accuracies = np.divide(np.sum(regL2.scores_[1],axis=0),10)\n",
    "\n",
    "# let's print the average accuracies obtained for the various values of C\n",
    "\n",
    "print(\"\\nAccuracies obtained for the different values of C with 10-fold Cross-Validation:\\n {}\".format( CV_accuracies ))\n",
    "\n",
    "# the attribute 'C_' contains the best value of C as identified by cross-validation;\n",
    "# let's print it\n",
    "\n",
    "print(\"\\nBest value of parameter C according to 10-fold Cross-Validation:\\n {}\".format( reg.C_[0] ))\n",
    "\n",
    "# let's store the best CV accuracy, and then print it\n",
    "regL2_best_CV_accuracy = max(CV_accuracies)\n",
    "print(\"\\n10-fold Cross-Validation accuracies obtained with the best value of parameter C:\\n {}\".format( regL2_best_CV_accuracy ))\n",
    "\n",
    "#define the model using the best C and an appropriate solver\n",
    "\n",
    "regL2_full = linear_model.LogisticRegression(C = regL2_best_CV_accuracy ,solver='newton-cg')\n",
    "\n",
    "\n",
    "#fit the model using the best C on the entire training set\n",
    "\n",
    "best_model_L2 = regL2_full.fit(X_training,Y_training)\n",
    "\n",
    "#######\n",
    "print('\\nTraining Accuracy without L2 Regularized = ',Training_Accuracy)\n",
    "print('Training Accuracy with L2 Regularized    = ',Training_Accuracy_L2)\n",
    "print('\\nTest Set Accuracy without L2 Regularized = ',Test_Accuracy)\n",
    "print('Test Set Accuracy with L2 Regularized    = ',Test_Accuracy_L2)\n",
    "\n",
    "#######\n",
    "#print the coefficients from logistic regression\n",
    "print(\"\\nLogistic Regression Coefficients :\\n {}\".format( reg_full.coef_ ))\n",
    "\n",
    "# note that the intercept is not in coef_, it is in intercept_\n",
    "print(\"\\nIntercept: {}\".format( reg_full.intercept_ ))\n",
    "\n",
    "#print the coefficients from L2 regularized logistic regression\n",
    "print(\"\\nL2 Regularized Logistic Regression Coefficients :\\n {}\".format( regL2_full.coef_ ))\n",
    "\n",
    "# note that the intercept is not in coef_, it is in intercept_\n",
    "print(\"\\nIntercept: {}\".format( regL2_full.intercept_ ))\n",
    "\n",
    "# Plot the coefficients\n",
    "regL2_full_coef = regL2_full.coef_.reshape(regL2_full.coef_.shape[1],)\n",
    "ind = np.arange(1,len(reg_coef)+1)  # the x locations for the groups\n",
    "width = 0.35       # the width of the bars\n",
    "fig, ax = plt.subplots()\n",
    "\n",
    "rects1 = ax.bar(ind, reg_coef, width, color='r')\n",
    "rects2 = ax.bar(ind + width, regL2_full_coef, width, color='y')\n",
    "ax.legend((rects1[0], rects2[0]), ('Log Regr', 'Log Regr + L2 Regul'))\n",
    "plt.xlabel('Coefficient Idx')\n",
    "plt.ylabel('Coefficient Value')\n",
    "plt.title('Logistic Regression Coefficients: Standard and Regularized Version')\n",
    "plt.show()\n"
   ]
  },
  {
   "cell_type": "markdown",
   "metadata": {
    "collapsed": true
   },
   "source": [
    "### TODO 10: Discuss all the questions above for the larger set (max 7 lines)\n"
   ]
  },
  {
   "cell_type": "code",
   "execution_count": null,
   "metadata": {},
   "outputs": [],
   "source": []
  }
 ],
 "metadata": {
  "anaconda-cloud": {},
  "kernelspec": {
   "display_name": "Python 3",
   "language": "python",
   "name": "python3"
  },
  "language_info": {
   "codemirror_mode": {
    "name": "ipython",
    "version": 3
   },
   "file_extension": ".py",
   "mimetype": "text/x-python",
   "name": "python",
   "nbconvert_exporter": "python",
   "pygments_lexer": "ipython3",
   "version": "3.7.1"
  }
 },
 "nbformat": 4,
 "nbformat_minor": 1
}
