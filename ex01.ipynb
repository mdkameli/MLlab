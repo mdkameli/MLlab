{
 "cells": [
  {
   "cell_type": "code",
   "execution_count": 4,
   "metadata": {},
   "outputs": [
    {
     "name": "stdout",
     "output_type": "stream",
     "text": [
      "(1297,) (1297,)\n"
     ]
    }
   ],
   "source": [
    "#Assignment 0\n",
    "\n",
    "import scipy.stats as sp\n",
    "import numpy as np\n",
    "import sklearn as sl\n",
    "import csv\n",
    "import matplotlib.pyplot as plt\n",
    "\n",
    "#Reading data\n",
    "file_name = \"data/km_year_power_price.csv\"\n",
    "infile = open(file_name,'r')\n",
    "line_c = 0\n",
    "dataset = np.zeros((1297,4))\n",
    "for line in infile:\n",
    "    if (line_c <=1297) and (line_c>=1):\n",
    "        v = line.strip().split(',') #strip removes whitespaces and newlines characters\n",
    "        dataset[line_c-1]=v\n",
    "    line_c += 1\n",
    "infile.close()\n",
    "y = dataset[:,3]\n",
    "x = dataset[:,0]\n",
    "print(x.shape,y.shape)\n",
    "#print(dataset)"
   ]
  },
  {
   "cell_type": "code",
   "execution_count": 5,
   "metadata": {},
   "outputs": [
    {
     "name": "stdout",
     "output_type": "stream",
     "text": [
      "LinregressResult(slope=-0.054251513309725684, intercept=16692.34530251974, rvalue=-0.2572867429988498, pvalue=4.689714410723289e-21, stderr=0.005662227565052593)\n"
     ]
    }
   ],
   "source": [
    "linreg = sp.linregress(x, y)\n",
    "print(linreg)"
   ]
  },
  {
   "cell_type": "code",
   "execution_count": 6,
   "metadata": {},
   "outputs": [
    {
     "data": {
      "text/plain": [
       "[<matplotlib.lines.Line2D at 0x4516fb3ac8>]"
      ]
     },
     "execution_count": 6,
     "metadata": {},
     "output_type": "execute_result"
    },
    {
     "data": {
      "image/png": "[encoded data removed]",
      "text/plain": [
       "<matplotlib.figure.Figure at 0x4516fba5f8>"
      ]
     },
     "metadata": {},
     "output_type": "display_data"
    }
   ],
   "source": [
    "plt.plot (x,y,'o',)\n",
    "plt.plot(x,linreg.intercept+linreg.slope*x,'r')"
   ]
  },
  {
   "cell_type": "code",
   "execution_count": null,
   "metadata": {},
   "outputs": [],
   "source": []
  },
  {
   "cell_type": "code",
   "execution_count": null,
   "metadata": {},
   "outputs": [],
   "source": []
  }
 ],
 "metadata": {
  "kernelspec": {
   "display_name": "Python 3",
   "language": "python",
   "name": "python3"
  },
  "language_info": {
   "codemirror_mode": {
    "name": "ipython",
    "version": 3
   },
   "file_extension": ".py",
   "mimetype": "text/x-python",
   "name": "python",
   "nbconvert_exporter": "python",
   "pygments_lexer": "ipython3",
   "version": "3.7.1"
  }
 },
 "nbformat": 4,
 "nbformat_minor": 2
}
